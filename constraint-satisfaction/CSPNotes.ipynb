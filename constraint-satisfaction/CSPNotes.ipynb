{
 "cells": [
  {
   "cell_type": "markdown",
   "metadata": {},
   "source": [
    "# CSP Examples\n",
    "The lessons and coding exercise will deal with several examples of constraint satisfaction problems, some of which are defined below.\n",
    "\n",
    "## Defining CSPs\n",
    "\n",
    "Constraint Satisfaction Problems can be framed as a Triple <X, D, C> :\n",
    "\n",
    "- `X` is a set of variables, {X1, …, Xn}.\n",
    "- `D` is a set of domains, {D1, ..., Dn}, one for each variable.\n",
    "- `C` is a set of constraints that specify allowable combinations of values.\n",
    "\n",
    "**Notes:**\n",
    "\n",
    "1. Each domain Di consists of a set of allowable values, {v1,...,vk} for variable $X_i$.\n",
    "2. Each constraint Ci consists of a pair `⟨scope, rel⟩`, where `scope` is a tuple of variables that participate in the constraint and `rel` is a relation that defines the values that those variables can take on.\n",
    "3. For example, if X1 and X2 both have the domain `{A,B}`, then the constraint saying the two variables must have different values can be written as *⟨($X_1, X_2$), [(A, B), (B, A)]⟩ or as ⟨($X_1, X_2), X_1 ≠ X_2$⟩*"
   ]
  },
  {
   "cell_type": "markdown",
   "metadata": {},
   "source": [
    "## Examples: \n",
    "\n",
    "### Sudoku\n",
    "\n",
    "![sudoku](img/sudoku.png)\n",
    "\n",
    "#### Sudoku CSP Definition\n",
    "- **Variables:** the 81 boxes that must be assigned a value\n",
    "- **Domains:** every variable has the same domain, the single digits 1-9\n",
    "- **Constraints:** each row, column, and 3x3 group must contain one of each digits 1-9\n",
    "\n",
    "### 4 Queens \n",
    "The 4-queens problem asks you to place 4 chess queens on a 4x4 grid such that none of the queens are in \"check\" (i.e., no two queens occupy the same row, column, or diagonal). The problem can be expanded to standard 8x8 chessboards as the \"8-queens\" problem, or generalized to any NxN grid as the \"N-queens\" problem.\n",
    "\n",
    "![4 queens](img/4-queens.png)\n",
    "\n",
    "#### 4-Queens CSP Definition\n",
    "- **Variables:** the row assignment of each of the 4 queens (the variables represent the queen assigned to each of the four columns)\n",
    "- **Domains:** every variable has the same domain, the single digits 1-4\n",
    "- **Constraints:** No pair of queens can be on the same row or diagonal\n",
    "\n",
    "### Map Coloring \n",
    "![map coloring](img/map-coloring.png)\n",
    "#### Map Coloring CSP Definition\n",
    "- **Variables:** One for each region of the map (in this case WA, NT, SA, Q, NSW, V, and T)\n",
    "    - X = {WA,NT,Q,NSW,V,SA,T}\n",
    "- **Domains:** All variables have the same domain, the list of colors that may be assigned to each region\n",
    "    - Di = {red , green , blue }\n",
    "- **Constraints:** No pair of adjacent regions can have the same color\n",
    "    - C = {SA≠WA, SA≠NT, SA≠Q, SA≠NSW, SA≠V, WA≠NT,NT≠Q, Q≠NSW, NSW≠V}"
   ]
  },
  {
   "cell_type": "markdown",
   "metadata": {},
   "source": [
    "## Constraints \n",
    "- Unary Constraints vs Binary, contains 1 / 2 variables\n",
    "- Represent Binary constraints with a Constraint Graph \n",
    "    - Use this to speed up search for a solution\n",
    "- Can have constraints w/ > 3 vars\n",
    "- Preference constraints - Constraint optimization problems, solved w/ linear programming\n",
    "    \n",
    "### Variations on CSP formalism:\n",
    "- `unary constraint`: restricts the value of a single variable. For example, in the map-coloring problem we can assign Western Australia region with blue color using this representation: ⟨(SA),SA=blue⟩.\n",
    "- `binary constraint` relates two variables. For example, no neighboring region can have the same color can be represented as ⟨(X1, X2), X1≠X2⟩.\n",
    "- **AIMA** textbook chapter 3 section 6.1.2 and 6.1.3 cover different kind of `variable` and `constraint` variations on CSP ."
   ]
  },
  {
   "cell_type": "markdown",
   "metadata": {},
   "source": [
    "# Why Backtracking Search?\n",
    "\n",
    "## Search in CSPs \n",
    "![dfs](img/dfs.gif)\n",
    "\n",
    "If we used a standard **depth first search**, then for $n$ variables each with $d$ possible values the branching factor of the resulting tree would be $nd$ at the top level, $(n-1)d$ at the second level, $(n-2)d$ at the next level, and so on. The total branching factor would be $n! d^n$ when there are only $d^n$ possible assignments.\n",
    "\n",
    "## Backtracking to avoid redundancy\n",
    "Backtracking is identical to depth first search order, but it only evaluates a single assignment order for the variables and it reverts an assignments whenever the current state is inconsistent with any of the problem constraints. Backtracking will typically find a solution= faster than depth first search.\n",
    "\n",
    "One key feature of backtracking search is that the choice of which variable to assign first and the choice of which value to assign can have a big impact on the efficiency of the search.\n",
    "\n",
    "![backtracking](img/backtracking.gif)\n",
    "\n",
    "## Aside: Local Search \n",
    "While depth first search and backtracking apply variable assignments one at a time, local search always considers complete assignments -- every variable in the problem is always assigned to a concrete value (compare that to the root node of a dfs tree where none of the variables are assigned).\n",
    "\n",
    "Local search operates by starting with a complete assignment, then modifying one or more of the variable values within some \"local neighborhood\" of the current assignment. \n",
    "\n",
    "![local search](img/local.gif)"
   ]
  },
  {
   "cell_type": "markdown",
   "metadata": {},
   "source": [
    "# Improving Backtracking Efficiency \n",
    "\n",
    "### Least Constraining Value\n",
    "- Choose var that rules out the fewest values in the remaining vars\n",
    "\n",
    "### Min Remaining Values (MRV)\n",
    "- Choose var with fewest legals values \n",
    "\n",
    "### Degree Heuristic\n",
    "- Choose var with most constraints on remaining vars "
   ]
  },
  {
   "cell_type": "markdown",
   "metadata": {},
   "source": [
    "## Forward Checking\n",
    "\n",
    "- Keep track of remaining possible values for each variable\n",
    "- If a variable has no more possible values after assigning another variable, then this forward checking is an early warning system that a search in going down the wrong branch\n",
    "- You can backtrack early and go through less possibilities"
   ]
  },
  {
   "cell_type": "markdown",
   "metadata": {},
   "source": [
    "## Constraint Propagation and Arc Consistency\n",
    "\n",
    "- Use constraint propagation repeatedly to enforce all LOCAL constraints (to backtrack even earlier than JUST forward checking)\n",
    "- Use ARC CONSISTENCY for simple version of constraint prop \n",
    "    - A var and CSP are arc consistent w/ respect to another var **IF** there is still some **value available for the 2nd var after we assign 1st var to a value**\n",
    "    - if ALL vars in graph satisfy this condition, network is arc consistent\n",
    "        - Check if graph is arc consistent as you assign values to variables and remove values from other vars "
   ]
  },
  {
   "cell_type": "markdown",
   "metadata": {},
   "source": [
    "# Structured CSPs\n",
    "\n",
    "- Unary Constraint -> Solve separately and remove from tree\n",
    "- Split into subproblems -> 80 to 4 groups of 20 with d = 20 -> $d^n$ = $2^{80}$ -> $4 * 2^{20}$\n",
    "- Tree Sructure -> $O(nd^2)$ instead of $O(d^n)$ using topological sort\n",
    "    - Turn graph into tree by assigning values to var and eliminating variables in the graph to create a tree\n"
   ]
  },
  {
   "cell_type": "code",
   "execution_count": null,
   "metadata": {},
   "outputs": [],
   "source": []
  }
 ],
 "metadata": {
  "kernelspec": {
   "display_name": "Python 3",
   "language": "python",
   "name": "python3"
  },
  "language_info": {
   "codemirror_mode": {
    "name": "ipython",
    "version": 3
   },
   "file_extension": ".py",
   "mimetype": "text/x-python",
   "name": "python",
   "nbconvert_exporter": "python",
   "pygments_lexer": "ipython3",
   "version": "3.7.4"
  }
 },
 "nbformat": 4,
 "nbformat_minor": 2
}
