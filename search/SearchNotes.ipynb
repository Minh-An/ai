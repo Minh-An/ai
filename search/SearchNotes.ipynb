{
 "cells": [
  {
   "cell_type": "markdown",
   "metadata": {},
   "source": [
    "# Introduction\n",
    "\n",
    "Problem\n",
    "- State s\n",
    "- Action - can be independent / dependent of state\n",
    "- Result (s, a) -> s'"
   ]
  },
  {
   "cell_type": "markdown",
   "metadata": {},
   "source": [
    "# Uninformed Search\n",
    "\n",
    "- State space - all states \n",
    "    - Explored, Frontier, Unexplored regions\n",
    "    - Step cost - cost of traveling b/w states, Path cost = total sum of path costs \n",
    "    \n",
    "## BFS (Breadth First Search) \n",
    "\n",
    "- find shortest # of steps, but not shortest cost \n",
    "\n",
    "## Uniform Cost Search \n",
    "\n",
    "- find shortest/cheapest cost \n",
    "\n",
    "## DFS (Depth First) \n",
    "\n",
    "- not complete / optimal like the others, but it's frontier size is WAY smaller\n"
   ]
  },
  {
   "cell_type": "markdown",
   "metadata": {},
   "source": [
    "# Informed Search\n",
    "\n",
    "## Greedy Best-First Search\n",
    "- Only use the straight line distance to the goal and start expanding in that direction\n",
    "\n",
    "## A* Search\n",
    "\n",
    "- f = g(actual distance from source -> state) + h(straight line distance)\n",
    "- minimize f in search"
   ]
  },
  {
   "cell_type": "code",
   "execution_count": null,
   "metadata": {},
   "outputs": [],
   "source": []
  }
 ],
 "metadata": {
  "kernelspec": {
   "display_name": "Python [conda env:aind]",
   "language": "python",
   "name": "conda-env-aind-py"
  },
  "language_info": {
   "codemirror_mode": {
    "name": "ipython",
    "version": 3
   },
   "file_extension": ".py",
   "mimetype": "text/x-python",
   "name": "python",
   "nbconvert_exporter": "python",
   "pygments_lexer": "ipython3",
   "version": "3.5.4"
  }
 },
 "nbformat": 4,
 "nbformat_minor": 4
}
