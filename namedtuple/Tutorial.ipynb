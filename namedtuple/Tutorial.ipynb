{
 "cells": [
  {
   "cell_type": "markdown",
   "metadata": {},
   "source": [
    "# Python namedtuple Tutorial\n",
    "\n",
    "[Reference froom ZetCode](http://zetcode.com/python/namedtuple/)"
   ]
  },
  {
   "cell_type": "code",
   "execution_count": 1,
   "metadata": {},
   "outputs": [
    {
     "name": "stdout",
     "output_type": "stream",
     "text": [
      "City(name='Name', population=123)\n"
     ]
    }
   ],
   "source": [
    "from collections import namedtuple \n",
    "\n",
    "City = namedtuple('City', ['name', 'population'])\n",
    "\n",
    "c1 = City(\"Name\", 123)\n",
    "\n",
    "print(c1)"
   ]
  },
  {
   "cell_type": "markdown",
   "metadata": {},
   "source": [
    "## Accessing "
   ]
  },
  {
   "cell_type": "code",
   "execution_count": 2,
   "metadata": {},
   "outputs": [
    {
     "name": "stdout",
     "output_type": "stream",
     "text": [
      "Name 123\n",
      "Name 123\n"
     ]
    }
   ],
   "source": [
    "print(c1[0], c1[1])\n",
    "print(c1.name, c1.population)"
   ]
  },
  {
   "cell_type": "markdown",
   "metadata": {},
   "source": [
    "## Unpacking"
   ]
  },
  {
   "cell_type": "code",
   "execution_count": 3,
   "metadata": {},
   "outputs": [
    {
     "name": "stdout",
     "output_type": "stream",
     "text": [
      "Name; 123\n"
     ]
    }
   ],
   "source": [
    "print(*c1, sep=\"; \")"
   ]
  },
  {
   "cell_type": "code",
   "execution_count": 6,
   "metadata": {},
   "outputs": [
    {
     "name": "stdout",
     "output_type": "stream",
     "text": [
      "City(name='Another', population=321)\n"
     ]
    }
   ],
   "source": [
    "d = {'name': 'Another', 'population': 321}\n",
    "c = City(**d)\n",
    "print(c)"
   ]
  },
  {
   "cell_type": "markdown",
   "metadata": {},
   "source": [
    "## Subclassing\n",
    "\n",
    "adding functionality to namedtuple\n",
    "namedtuple can have DEFAULTS"
   ]
  },
  {
   "cell_type": "code",
   "execution_count": 10,
   "metadata": {},
   "outputs": [
    {
     "name": "stdout",
     "output_type": "stream",
     "text": [
      "7.0710678118654755\n",
      "Point: x=5  y=5  hypot=7.0710678118654755\n",
      "Point: x=1  y=1  hypot=1.4142135623730951\n"
     ]
    }
   ],
   "source": [
    "from math import sqrt\n",
    "\n",
    "\n",
    "class Point(namedtuple('Point', 'x y', defaults=[1,1])):\n",
    "    \n",
    "    @property\n",
    "    def hypot(self):\n",
    "        return sqrt((self.x ** 2 + self.y ** 2))\n",
    "\n",
    "    def __str__(self):\n",
    "        return f'Point: x={self.x}  y={self.y}  hypot={self.hypot}'\n",
    "    \n",
    "p = Point(5,5)\n",
    "\n",
    "print(p.hypot)\n",
    "print(p)\n",
    "\n",
    "p_default = Point()\n",
    "print(p_default)"
   ]
  },
  {
   "cell_type": "markdown",
   "metadata": {},
   "source": [
    "## Using Python typing.NamedTuple"
   ]
  },
  {
   "cell_type": "code",
   "execution_count": 9,
   "metadata": {},
   "outputs": [
    {
     "name": "stdout",
     "output_type": "stream",
     "text": [
      "City(name='Bratislava', population=432000)\n",
      "City(name='Budapest', population=1759000)\n"
     ]
    }
   ],
   "source": [
    "from typing import NamedTuple\n",
    "\n",
    "\n",
    "class City(NamedTuple):\n",
    "    name: str\n",
    "    population: int\n",
    "\n",
    "\n",
    "c1 = City('Bratislava', 432000)\n",
    "c2 = City('Budapest', 1759000)\n",
    "\n",
    "print(c1)\n",
    "print(c2)"
   ]
  },
  {
   "cell_type": "markdown",
   "metadata": {},
   "source": [
    "attributes have typehints"
   ]
  },
  {
   "cell_type": "markdown",
   "metadata": {},
   "source": [
    "## namedtuple helpers"
   ]
  },
  {
   "cell_type": "code",
   "execution_count": 11,
   "metadata": {},
   "outputs": [
    {
     "name": "stdout",
     "output_type": "stream",
     "text": [
      "('x', 'y')\n",
      "{'x': 1, 'y': 1}\n",
      "OrderedDict([('x', 5), ('y', 5)])\n"
     ]
    }
   ],
   "source": [
    "p = Point(5, 5)\n",
    "\n",
    "print(p._fields)\n",
    "print(p._field_defaults)\n",
    "print(p._asdict())"
   ]
  },
  {
   "cell_type": "markdown",
   "metadata": {},
   "source": [
    "## Sorting"
   ]
  },
  {
   "cell_type": "code",
   "execution_count": 13,
   "metadata": {},
   "outputs": [
    {
     "name": "stdout",
     "output_type": "stream",
     "text": [
      "City(id=7, name='Berlin', population=3671000)\n",
      "City(id=1, name='Bratislava', population=432000)\n",
      "City(id=2, name='Budapest', population=1759000)\n",
      "City(id=6, name='Edinburgh', population=464000)\n",
      "City(id=5, name='Los Angeles', population=3971000)\n",
      "City(id=3, name='Prague', population=1280000)\n",
      "City(id=4, name='Warsaw', population=1748000)\n"
     ]
    }
   ],
   "source": [
    "class City(NamedTuple):\n",
    "    id: int\n",
    "    name: str\n",
    "    population: int\n",
    "\n",
    "\n",
    "c1 = City(1, 'Bratislava', 432000)\n",
    "c2 = City(2, 'Budapest', 1759000)\n",
    "c3 = City(3, 'Prague', 1280000)\n",
    "c4 = City(4, 'Warsaw', 1748000)\n",
    "c5 = City(5, 'Los Angeles', 3971000)\n",
    "c6 = City(6, 'Edinburgh', 464000)\n",
    "c7 = City(7, 'Berlin', 3671000)\n",
    "\n",
    "cities = [c1, c2, c3, c4, c5, c6, c7]\n",
    "\n",
    "cities.sort(key=lambda e: e.name)\n",
    "\n",
    "for city in cities:\n",
    "    print(city)"
   ]
  },
  {
   "cell_type": "markdown",
   "metadata": {},
   "source": [
    "## _make helper\n",
    "\n",
    "makes new instance of namedtuple from sequence or iterable"
   ]
  },
  {
   "cell_type": "code",
   "execution_count": 14,
   "metadata": {},
   "outputs": [
    {
     "name": "stdout",
     "output_type": "stream",
     "text": [
      "City(name='Bratislava', population=432000)\n",
      "City(name='Budapest', population=1759000)\n"
     ]
    }
   ],
   "source": [
    "City = namedtuple('City' , 'name population')\n",
    "\n",
    "c1 = City._make(('Bratislava', 432000))\n",
    "c2 = City._make(('Budapest', 1759000))\n",
    "\n",
    "print(c1)\n",
    "print(c2)"
   ]
  },
  {
   "cell_type": "markdown",
   "metadata": {},
   "source": [
    "## read CSV data"
   ]
  },
  {
   "cell_type": "code",
   "execution_count": 16,
   "metadata": {},
   "outputs": [
    {
     "name": "stdout",
     "output_type": "stream",
     "text": [
      "City(name='Bratislava', population=' 432000')\n",
      "City(name='Budapest', population=' 1759000')\n",
      "City(name='Prague', population=' 1280000')\n",
      "City(name='Warsaw', population=' 1748000')\n",
      "City(name='Los Angeles', population=' 3971000')\n",
      "City(name='New York', population=' 8550000')\n",
      "City(name='Edinburgh', population=' 464000')\n",
      "City(name='Berlin', population=' 3671000')\n"
     ]
    }
   ],
   "source": [
    "from collections import namedtuple\n",
    "import csv\n",
    "\n",
    "\n",
    "City = namedtuple('City' , 'name population')\n",
    "\n",
    "f = open('cities.csv', 'r')\n",
    "\n",
    "with f:\n",
    "\n",
    "    reader = csv.reader(f)\n",
    "    \n",
    "    for city in map(City._make, reader):\n",
    "        print(city)"
   ]
  },
  {
   "cell_type": "code",
   "execution_count": null,
   "metadata": {},
   "outputs": [],
   "source": []
  }
 ],
 "metadata": {
  "kernelspec": {
   "display_name": "Python 3",
   "language": "python",
   "name": "python3"
  },
  "language_info": {
   "codemirror_mode": {
    "name": "ipython",
    "version": 3
   },
   "file_extension": ".py",
   "mimetype": "text/x-python",
   "name": "python",
   "nbconvert_exporter": "python",
   "pygments_lexer": "ipython3",
   "version": "3.7.4"
  }
 },
 "nbformat": 4,
 "nbformat_minor": 2
}
